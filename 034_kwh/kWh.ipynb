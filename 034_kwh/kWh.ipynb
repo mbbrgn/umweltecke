{
 "cells": [
  {
   "cell_type": "code",
   "execution_count": 1,
   "id": "2635933e-f2b9-4887-afd1-615bd385c877",
   "metadata": {},
   "outputs": [],
   "source": [
    "%reset -f"
   ]
  },
  {
   "cell_type": "markdown",
   "id": "6c3263dc-d669-4860-a8ef-d8fdea1030e7",
   "metadata": {},
   "source": [
    "# kWh\n",
    "\n",
    "## Literature\n",
    "* https://de.m.wikipedia.org/wiki/Wattstunde\n",
    "  - Zum Vergleich ist die folgende Faustregel für den Energiegehalt von Primärenergieträgern erwähnenswert:\n",
    "    + \"*10 kWh ≈ 1 m³ Erdgas ≈ 1 l Öl ≈ 1 l Benzin ≈ 1 kg Kohle ≈ 2 kg Holz ≈ 10 h direktes Sonnenlicht auf 1 m² auf der Erde*\"\n",
    "  - SI Einheit: 1Wh = 3.6 kJ\n",
    "* https://de.wikipedia.org/wiki/Raummeter\n",
    "  - Ster (st, auch Raummeter, rm) 1$m^3$ parallel geschichtes Rund- bzw. Scheidholz\n",
    "* https://de.wikipedia.org/wiki/Hartholz\n",
    "  - Gewicht 0.55 $g/cm^3$\n",
    "* https://www.fastenergy.de/heizoelpreise.htm\n",
    "  - ~ 125 € / 100 liter oil\n",
    "* https://www.check24.de/gas/vergleich/check24/?totalconsumption=18000&zipcode=83346&city=Bergen&pid=24&pricing=month&product_id=2&calculationparameter_id=d4d00cdc140bfd30f38296f9b5dc742c\n",
    "  - 19,02 Cent/kWh gas\n",
    "* https://durchblicker.at/umrechnung-gas-m3-in-kwh\n",
    "  - m3 gas = 10.7 kWh ~= 10\n",
    "* https://insideevs.de/news/591331/wasserstoff-preis-tankstelle-h2mobility/\n",
    "  - 7. Juni 12.85 € / kg\n",
    "* https://de.wikipedia.org/wiki/Wasserstoff#Energiedichten_im_Vergleich\n",
    "  - H2 Dichte 0.090 kg / m3, 3.54 kWh/m3\n",
    "* https://de.wikipedia.org/wiki/Wärmepumpe\n",
    "  - COP = Q_c/W:\n",
    "    + \"*Bei typischen Leistungszahlen von 4 bis 5 steht das Vier- bis Fünffache der eingesetzten Leistung als nutzbare Wärmeleistung zur Verfügung, der Zugewinn stammt aus der entzogenen Umgebungswärme.*\"\n",
    "* https://www.auto-motor-und-sport.de/test/suv-gegen-pkw-verbrauch-sicherheit-platz-co2/\n",
    "  - Gewicht SUV vs normales Auto: kein großer Unterschied\n",
    "* https://www.thermondo.de/info/rat/vergleich/wirkungsgrad-der-heizung/\n",
    "  - wirkungsgrade Heizung\n",
    "    + Heizkessel mit Scheitholz \t80 bis 95\n",
    "    + Pelletkessel \t85 bis 103\n",
    "    + Ölbrennwertheizung \t102 bis 106\n",
    "    + Gasbrennwertheizung \t100 bis 111\n",
    "    + herkömmliche Ölheizung \t70 bis 90\n",
    "    + herkömmliche Gasheizung \t85 bis 93 \n",
    "* https://de.wikipedia.org/wiki/Brennwertkessel\n",
    "  - wird das Abgas weitestgehend abgekühlt\n",
    "* TODO: check websites\n",
    "  - https://www.energieheld.de/ # tipp anja\n",
    "  - https://www.heizspiegel.de/ # Gefördert von Bundesministerium für Wirtschaft und Klimaschutz\n",
    "  - https://gas.info/energie-gas/energie-preisvergleich"
   ]
  },
  {
   "cell_type": "code",
   "execution_count": 2,
   "id": "21c7db85-0e0b-4535-919d-4e28937fefa5",
   "metadata": {},
   "outputs": [],
   "source": [
    "import numpy as np\n",
    "from IPython.display import display"
   ]
  },
  {
   "cell_type": "code",
   "execution_count": 3,
   "id": "0cc2bb25-2090-4216-8c04-dddfd2daea42",
   "metadata": {},
   "outputs": [
    {
     "data": {
      "text/plain": [
       "0.0002777777777777778"
      ]
     },
     "execution_count": 3,
     "metadata": {},
     "output_type": "execute_result"
    }
   ],
   "source": [
    "gravity = 9.81 # kg m / s2\n",
    "\n",
    "ten_kwh = 10\n",
    "\n",
    "one_kwh_to_wh = 1e3\n",
    "one_wh_to_kwh = 1 / one_kwh_to_wh\n",
    "one_wh_in_joule = 3.6e3\n",
    "one_joule_in_wh = 1 / one_wh_in_joule\n",
    "one_joule_in_wh"
   ]
  },
  {
   "cell_type": "code",
   "execution_count": 4,
   "id": "676c10ee-d8a8-470d-ac5a-20dc1e93a4ba",
   "metadata": {},
   "outputs": [
    {
     "data": {
      "text/plain": [
       "'3.6e+07'"
      ]
     },
     "execution_count": 4,
     "metadata": {},
     "output_type": "execute_result"
    }
   ],
   "source": [
    "f\"{ten_kwh * one_kwh_to_wh * one_wh_in_joule:.1e}\""
   ]
  },
  {
   "cell_type": "code",
   "execution_count": 5,
   "id": "56c4d648-c0d2-4d2d-a555-161132a015ea",
   "metadata": {},
   "outputs": [
    {
     "data": {
      "text/plain": [
       "2446.4831804281343"
      ]
     },
     "execution_count": 5,
     "metadata": {},
     "output_type": "execute_result"
    }
   ],
   "source": [
    "# E = m * g * h\n",
    "# => h = E / (m * g) \n",
    "weight_car = 1500\n",
    "\n",
    "E = ten_kwh * one_kwh_to_wh * one_wh_in_joule # j\n",
    "h = E / (weight_car * gravity)\n",
    "h"
   ]
  },
  {
   "cell_type": "code",
   "execution_count": 6,
   "id": "8aadee90-bce3-47e1-87bb-e8d6b7e14f04",
   "metadata": {},
   "outputs": [
    {
     "data": {
      "text/plain": [
       "788.7204828074392"
      ]
     },
     "execution_count": 6,
     "metadata": {},
     "output_type": "execute_result"
    }
   ],
   "source": [
    "# E = 1 / 2 * m * v**2\n",
    "# => v = sqrt( E * 2 / m )\n",
    "m_per_s_to_km_per_h = 3.6\n",
    "\n",
    "v = np.sqrt( E * 2 / weight_car ) # m / s\n",
    "v * m_per_s_to_km_per_h # km / h"
   ]
  },
  {
   "cell_type": "code",
   "execution_count": 7,
   "id": "487dfe34-476f-492f-9634-22da09ee42c8",
   "metadata": {},
   "outputs": [
    {
     "data": {
      "text/plain": [
       "10.21875"
      ]
     },
     "execution_count": 7,
     "metadata": {},
     "output_type": "execute_result"
    }
   ],
   "source": [
    "# cross check\n",
    "weight_car * gravity * 2500 * one_joule_in_wh * one_wh_to_kwh"
   ]
  },
  {
   "cell_type": "code",
   "execution_count": 8,
   "id": "64f97c3a-0547-4a76-92a7-16da93379a3e",
   "metadata": {},
   "outputs": [
    {
     "data": {
      "text/plain": [
       "550.0"
      ]
     },
     "execution_count": 8,
     "metadata": {},
     "output_type": "execute_result"
    }
   ],
   "source": [
    "PRICE_PER_KWH = 0.5 # € / kWh\n",
    "PRICE_PER_STER_HARDWOOD = 150 # € / st\n",
    "PRICE_PER_LITER_OIL = 1.25 # € / l\n",
    "PRICE_PER_KWH_GAS = 0.1902 # € / kWh\n",
    "PRICE_PER_KG_H2 = 12.85 # € / kg\n",
    "COP = 4\n",
    "\n",
    "G_DIV_CM3_TO_KG_DIV_M3_FACTOR = 0.001 / (0.01)**3\n",
    "DENSITY_H2 = 0.090 # kg / m3\n",
    "WEIGHT_KG_STER_HARDWOOD = 0.55 * G_DIV_CM3_TO_KG_DIV_M3_FACTOR # kg/m3\n",
    "WEIGHT_KG_STER_HARDWOOD"
   ]
  },
  {
   "cell_type": "code",
   "execution_count": 9,
   "id": "52f3eea2-3762-4c43-9c5d-d694ca5676ab",
   "metadata": {},
   "outputs": [
    {
     "data": {
      "text/plain": [
       "2.824858757062147"
      ]
     },
     "execution_count": 9,
     "metadata": {},
     "output_type": "execute_result"
    }
   ],
   "source": [
    "ten_kwh_in_kg_wood = 2\n",
    "ten_kwh_in_l_oil = 1\n",
    "ten_kwh_in_m3_gas = 1\n",
    "ten_kwh_in_m3_h2 = 10 / 3.54\n",
    "ten_kwh_in_m3_h2"
   ]
  },
  {
   "cell_type": "code",
   "execution_count": 10,
   "id": "d465564b-4992-4567-b402-409637b4704d",
   "metadata": {},
   "outputs": [
    {
     "data": {
      "text/plain": [
       "'Cost 10kWh heat via electric heater: 5.00€'"
      ]
     },
     "execution_count": 10,
     "metadata": {},
     "output_type": "execute_result"
    }
   ],
   "source": [
    "# heat via electricity\n",
    "f\"Cost 10kWh heat via electric heater: {ten_kwh * PRICE_PER_KWH:.2f}€\""
   ]
  },
  {
   "cell_type": "code",
   "execution_count": 11,
   "id": "84d34fe4-2b7c-47cb-9ec6-d68b0f0a3d7f",
   "metadata": {},
   "outputs": [
    {
     "data": {
      "text/plain": [
       "'Cost 10kWh heat via electric heat pump: 1.25€'"
      ]
     },
     "execution_count": 11,
     "metadata": {},
     "output_type": "execute_result"
    }
   ],
   "source": [
    "# heat via electricity and heatpump\n",
    "f\"Cost 10kWh heat via electric heat pump: {ten_kwh / COP * PRICE_PER_KWH:.2f}€\""
   ]
  },
  {
   "cell_type": "code",
   "execution_count": 12,
   "id": "02c9dbbe-ce65-4d45-b362-5468a9d84545",
   "metadata": {},
   "outputs": [
    {
     "data": {
      "text/plain": [
       "'Cost 10kWh heat via hardwood: 0.55€'"
      ]
     },
     "execution_count": 12,
     "metadata": {},
     "output_type": "execute_result"
    }
   ],
   "source": [
    "# heat via hardwood\n",
    "price_per_kg_hardwood = PRICE_PER_STER_HARDWOOD / WEIGHT_KG_STER_HARDWOOD\n",
    "\n",
    "f\"Cost 10kWh heat via hardwood: {ten_kwh_in_kg_wood * price_per_kg_hardwood:.2f}€\""
   ]
  },
  {
   "cell_type": "code",
   "execution_count": 13,
   "id": "5accf24a-99c0-4603-9e01-cf0edbcd0f09",
   "metadata": {},
   "outputs": [
    {
     "data": {
      "text/plain": [
       "'Cost 10kWh heat via oil: 1.25€'"
      ]
     },
     "execution_count": 13,
     "metadata": {},
     "output_type": "execute_result"
    }
   ],
   "source": [
    "# heat via oil\n",
    "f\"Cost 10kWh heat via oil: {ten_kwh_in_l_oil * PRICE_PER_LITER_OIL:.2f}€\""
   ]
  },
  {
   "cell_type": "code",
   "execution_count": 14,
   "id": "ba631ae1-3b30-418c-a5e0-e0fa4e34519e",
   "metadata": {},
   "outputs": [
    {
     "data": {
      "text/plain": [
       "'Cost 10kWh heat via gas: 1.90€'"
      ]
     },
     "execution_count": 14,
     "metadata": {},
     "output_type": "execute_result"
    }
   ],
   "source": [
    "# heat via gas\n",
    "f\"Cost 10kWh heat via gas: {ten_kwh * PRICE_PER_KWH_GAS:.2f}€\""
   ]
  },
  {
   "cell_type": "code",
   "execution_count": 15,
   "id": "5f23b582-2f3d-4824-b9e8-c1bd53a452ff",
   "metadata": {},
   "outputs": [
    {
     "data": {
      "text/plain": [
       "'Cost 10kWh (2.8m3) heat via hydrogen: 3.27€'"
      ]
     },
     "execution_count": 15,
     "metadata": {},
     "output_type": "execute_result"
    }
   ],
   "source": [
    "# heat via H2\n",
    "ten_kwh_in_kg_h2 = ten_kwh_in_m3_h2 * DENSITY_H2\n",
    "\n",
    "f\"Cost 10kWh ({ten_kwh_in_m3_h2:.1f}m3) heat via hydrogen: {PRICE_PER_KG_H2 * ten_kwh_in_kg_h2:.2f}€\""
   ]
  },
  {
   "cell_type": "code",
   "execution_count": 16,
   "id": "79be3bba-7a5b-4722-bae3-8ab45ff775ef",
   "metadata": {},
   "outputs": [
    {
     "name": "stdout",
     "output_type": "stream",
     "text": [
      "✅ cross check passed\n"
     ]
    }
   ],
   "source": [
    "# cross check 2 tons pelez is equivalent to 1000 liter oil \n",
    "if np.allclose(\n",
    "        2000 / ten_kwh_in_kg_wood * ten_kwh,\n",
    "        1000 / ten_kwh_in_l_oil * ten_kwh\n",
    "    ):\n",
    "    print(\"✅ cross check passed\")\n",
    "else:\n",
    "    print(\"❌ cross check failed\")"
   ]
  },
  {
   "cell_type": "markdown",
   "id": "0f3bcead-4336-4ef7-a7cf-b1b8161fd4dc",
   "metadata": {},
   "source": [
    "# Flashlight of smartphone"
   ]
  },
  {
   "cell_type": "code",
   "execution_count": 17,
   "id": "1e0055a2-0c2d-4102-8973-e0b2b701ccbb",
   "metadata": {},
   "outputs": [
    {
     "data": {
      "text/plain": [
       "7.0"
      ]
     },
     "execution_count": 17,
     "metadata": {},
     "output_type": "execute_result"
    }
   ],
   "source": [
    "flash_light_perc_accu_per_hour = abs(np.diff(np.array([52, 45, 38]))).mean()\n",
    "flash_light_perc_accu_per_hour"
   ]
  },
  {
   "cell_type": "code",
   "execution_count": 18,
   "id": "38efaf98-2a0e-4256-92cf-edd6223fa549",
   "metadata": {},
   "outputs": [
    {
     "data": {
      "text/plain": [
       "0.5"
      ]
     },
     "execution_count": 18,
     "metadata": {},
     "output_type": "execute_result"
    }
   ],
   "source": [
    "background_perc_accu_per_hour = abs(np.diff(np.array([37, 37, 36]))).mean()\n",
    "background_perc_accu_per_hour"
   ]
  },
  {
   "cell_type": "code",
   "execution_count": 19,
   "id": "b8589aeb-0ac1-484f-982b-8501e6ab7f50",
   "metadata": {},
   "outputs": [
    {
     "data": {
      "text/plain": [
       "66.85714285714285"
      ]
     },
     "execution_count": 19,
     "metadata": {},
     "output_type": "execute_result"
    }
   ],
   "source": [
    "charge_watt = 3 * 5\n",
    "charge_time_hour = 35/60.\n",
    "charge_perc_per_hour_charge = 39 / charge_time_hour\n",
    "charge_perc_per_hour_charge"
   ]
  },
  {
   "cell_type": "code",
   "execution_count": 20,
   "id": "99b87b29-7d68-45bd-9ac8-ede0d1344f47",
   "metadata": {},
   "outputs": [
    {
     "data": {
      "text/plain": [
       "0.2243589743589744"
      ]
     },
     "execution_count": 20,
     "metadata": {},
     "output_type": "execute_result"
    }
   ],
   "source": [
    "wh_per_perc = charge_watt * 1 / charge_perc_per_hour_charge\n",
    "wh_per_perc"
   ]
  },
  {
   "cell_type": "code",
   "execution_count": 21,
   "id": "39d2deaf-2d04-4d4d-8c73-99d5f67de953",
   "metadata": {},
   "outputs": [
    {
     "data": {
      "text/plain": [
       "1.4583333333333335"
      ]
     },
     "execution_count": 21,
     "metadata": {},
     "output_type": "execute_result"
    }
   ],
   "source": [
    "one_hour_flashlight_in_watt = wh_per_perc * (flash_light_perc_accu_per_hour - background_perc_accu_per_hour)\n",
    "one_hour_flashlight_in_watt"
   ]
  },
  {
   "cell_type": "code",
   "execution_count": 22,
   "id": "d25fdff0-db9d-42a9-9311-4b1952ecc20c",
   "metadata": {},
   "outputs": [
    {
     "data": {
      "text/plain": [
       "532.65625"
      ]
     },
     "execution_count": 22,
     "metadata": {},
     "output_type": "execute_result"
    }
   ],
   "source": [
    "one_hour_flashlight_in_watt * 365.25"
   ]
  },
  {
   "cell_type": "markdown",
   "id": "d069f4bb-e23e-42f4-9f4c-9bd32d9fa25e",
   "metadata": {
    "tags": []
   },
   "source": [
    "# Energienutzungsplan für den Landkreis Traunstein Fortführung 2020\n",
    "\n",
    "GR Sitzung 2020-08-11"
   ]
  },
  {
   "cell_type": "code",
   "execution_count": 23,
   "id": "8e277d9f-03e4-4663-af36-d1731a07d4b1",
   "metadata": {},
   "outputs": [],
   "source": [
    "Stromverbrauch_Private_Haushalte = 7961 # MWh/a"
   ]
  },
  {
   "cell_type": "code",
   "execution_count": 24,
   "id": "b7204a55-a7ab-4a1e-a3c1-afac5d8126cd",
   "metadata": {},
   "outputs": [],
   "source": [
    "Endenergiebedarf_Waermebreitstellung_private_Haushalte = 45734"
   ]
  },
  {
   "cell_type": "code",
   "execution_count": 25,
   "id": "2f7602ba-b5a2-40fd-9401-86dd34d4f220",
   "metadata": {},
   "outputs": [
    {
     "data": {
      "text/plain": [
       "5.744755683959301"
      ]
     },
     "execution_count": 25,
     "metadata": {},
     "output_type": "execute_result"
    }
   ],
   "source": [
    "Endenergiebedarf_Waermebreitstellung_private_Haushalte / Stromverbrauch_Private_Haushalte"
   ]
  },
  {
   "cell_type": "code",
   "execution_count": null,
   "id": "ce87c3ff-9b45-46ce-9104-08478bfc7932",
   "metadata": {},
   "outputs": [],
   "source": []
  }
 ],
 "metadata": {
  "kernelspec": {
   "display_name": "Python 3 (ipykernel)",
   "language": "python",
   "name": "python3"
  },
  "language_info": {
   "codemirror_mode": {
    "name": "ipython",
    "version": 3
   },
   "file_extension": ".py",
   "mimetype": "text/x-python",
   "name": "python",
   "nbconvert_exporter": "python",
   "pygments_lexer": "ipython3",
   "version": "3.11.0"
  }
 },
 "nbformat": 4,
 "nbformat_minor": 5
}
