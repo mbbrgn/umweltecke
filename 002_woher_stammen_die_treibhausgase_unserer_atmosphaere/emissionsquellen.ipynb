{
 "cells": [
  {
   "cell_type": "markdown",
   "metadata": {},
   "source": [
    "# Emissionsquellen\n",
    "\n",
    "Daten Quelle: https://www.umweltbundesamt.de/sites/default/files/medien/361/bilder/dateien/2020_thg_crf_plus_1a_details_ci.xlsx"
   ]
  },
  {
   "cell_type": "code",
   "execution_count": 1,
   "metadata": {},
   "outputs": [],
   "source": [
    "%reset -f\n",
    "%matplotlib agg"
   ]
  },
  {
   "cell_type": "code",
   "execution_count": 2,
   "metadata": {},
   "outputs": [],
   "source": [
    "import pandas as pd\n",
    "import matplotlib.pyplot as plt\n",
    "from IPython.display import display, Image\n",
    "\n",
    "plt.rcParams['figure.figsize'] = (8, 6)"
   ]
  },
  {
   "cell_type": "code",
   "execution_count": 3,
   "metadata": {},
   "outputs": [
    {
     "data": {
      "text/html": [
       "<div>\n",
       "<style scoped>\n",
       "    .dataframe tbody tr th:only-of-type {\n",
       "        vertical-align: middle;\n",
       "    }\n",
       "\n",
       "    .dataframe tbody tr th {\n",
       "        vertical-align: top;\n",
       "    }\n",
       "\n",
       "    .dataframe thead th {\n",
       "        text-align: right;\n",
       "    }\n",
       "</style>\n",
       "<table border=\"1\" class=\"dataframe\">\n",
       "  <thead>\n",
       "    <tr style=\"text-align: right;\">\n",
       "      <th></th>\n",
       "      <th>Unnamed: 0</th>\n",
       "      <th>Unnamed: 1</th>\n",
       "      <th>Energiewirtschaft / Energy Industries</th>\n",
       "      <th>Verarbeitendes Gewerbe / Manufacturing Industries and Construction</th>\n",
       "      <th>Verkehr/Transport</th>\n",
       "      <th>Übrige Feuerungsanlagen &amp; sonstige kleine Quellen / Other Sectors &amp; other small sources**</th>\n",
       "      <th>Diffuse Emissionen aus Brennstoffen / Fugitive Emissions from Fuels</th>\n",
       "      <th>Industrieprozesse/Industrial Processes</th>\n",
       "      <th>Landwirtschaft/Agriculture</th>\n",
       "      <th>Abfall &amp; Abwasser / Waste &amp; Waste Water</th>\n",
       "      <th>...</th>\n",
       "      <th>Unnamed: 16</th>\n",
       "      <th>Unnamed: 17</th>\n",
       "      <th>Unnamed: 18</th>\n",
       "      <th>Unnamed: 19</th>\n",
       "      <th>Unnamed: 20</th>\n",
       "      <th>Unnamed: 21</th>\n",
       "      <th>Unnamed: 22</th>\n",
       "      <th>Unnamed: 23</th>\n",
       "      <th>Unnamed: 24</th>\n",
       "      <th>Unnamed: 25</th>\n",
       "    </tr>\n",
       "  </thead>\n",
       "  <tbody>\n",
       "    <tr>\n",
       "      <th>0</th>\n",
       "      <td>NaN</td>\n",
       "      <td>1990.0</td>\n",
       "      <td>427.353073</td>\n",
       "      <td>186.708766</td>\n",
       "      <td>164.978128</td>\n",
       "      <td>220.311287</td>\n",
       "      <td>37.696693</td>\n",
       "      <td>96.832708</td>\n",
       "      <td>79.305198</td>\n",
       "      <td>38.301930</td>\n",
       "      <td>...</td>\n",
       "      <td>NaN</td>\n",
       "      <td>NaN</td>\n",
       "      <td>NaN</td>\n",
       "      <td>NaN</td>\n",
       "      <td>NaN</td>\n",
       "      <td>NaN</td>\n",
       "      <td>NaN</td>\n",
       "      <td>NaN</td>\n",
       "      <td>NaN</td>\n",
       "      <td>NaN</td>\n",
       "    </tr>\n",
       "    <tr>\n",
       "      <th>1</th>\n",
       "      <td>NaN</td>\n",
       "      <td>1991.0</td>\n",
       "      <td>413.164017</td>\n",
       "      <td>165.288102</td>\n",
       "      <td>167.961403</td>\n",
       "      <td>216.942028</td>\n",
       "      <td>36.673044</td>\n",
       "      <td>93.106233</td>\n",
       "      <td>71.545190</td>\n",
       "      <td>39.678086</td>\n",
       "      <td>...</td>\n",
       "      <td>NaN</td>\n",
       "      <td>NaN</td>\n",
       "      <td>NaN</td>\n",
       "      <td>NaN</td>\n",
       "      <td>NaN</td>\n",
       "      <td>NaN</td>\n",
       "      <td>NaN</td>\n",
       "      <td>NaN</td>\n",
       "      <td>NaN</td>\n",
       "      <td>NaN</td>\n",
       "    </tr>\n",
       "  </tbody>\n",
       "</table>\n",
       "<p>2 rows × 26 columns</p>\n",
       "</div>"
      ],
      "text/plain": [
       "   Unnamed: 0  Unnamed: 1  Energiewirtschaft / Energy Industries  \\\n",
       "0         NaN      1990.0                             427.353073   \n",
       "1         NaN      1991.0                             413.164017   \n",
       "\n",
       "   Verarbeitendes Gewerbe / Manufacturing Industries and Construction  \\\n",
       "0                                         186.708766                    \n",
       "1                                         165.288102                    \n",
       "\n",
       "   Verkehr/Transport  \\\n",
       "0         164.978128   \n",
       "1         167.961403   \n",
       "\n",
       "   Übrige Feuerungsanlagen & sonstige kleine Quellen / Other Sectors & other small sources**  \\\n",
       "0                                         220.311287                                           \n",
       "1                                         216.942028                                           \n",
       "\n",
       "   Diffuse Emissionen aus Brennstoffen / Fugitive Emissions from Fuels  \\\n",
       "0                                          37.696693                     \n",
       "1                                          36.673044                     \n",
       "\n",
       "   Industrieprozesse/Industrial Processes  Landwirtschaft/Agriculture  \\\n",
       "0                               96.832708                   79.305198   \n",
       "1                               93.106233                   71.545190   \n",
       "\n",
       "   Abfall & Abwasser / Waste & Waste Water  ...  Unnamed: 16  Unnamed: 17  \\\n",
       "0                                38.301930  ...          NaN          NaN   \n",
       "1                                39.678086  ...          NaN          NaN   \n",
       "\n",
       "   Unnamed: 18  Unnamed: 19  Unnamed: 20  Unnamed: 21  Unnamed: 22  \\\n",
       "0          NaN          NaN          NaN          NaN          NaN   \n",
       "1          NaN          NaN          NaN          NaN          NaN   \n",
       "\n",
       "   Unnamed: 23  Unnamed: 24  Unnamed: 25  \n",
       "0          NaN          NaN          NaN  \n",
       "1          NaN          NaN          NaN  \n",
       "\n",
       "[2 rows x 26 columns]"
      ]
     },
     "execution_count": 3,
     "metadata": {},
     "output_type": "execute_result"
    }
   ],
   "source": [
    "_df = pd.read_excel(\"2020_thg_crf_plus_1a_details_ci.xlsx\", skiprows=8)\n",
    "_df.head(2)"
   ]
  },
  {
   "cell_type": "code",
   "execution_count": 4,
   "metadata": {},
   "outputs": [
    {
     "data": {
      "text/html": [
       "<div>\n",
       "<style scoped>\n",
       "    .dataframe tbody tr th:only-of-type {\n",
       "        vertical-align: middle;\n",
       "    }\n",
       "\n",
       "    .dataframe tbody tr th {\n",
       "        vertical-align: top;\n",
       "    }\n",
       "\n",
       "    .dataframe thead th {\n",
       "        text-align: right;\n",
       "    }\n",
       "</style>\n",
       "<table border=\"1\" class=\"dataframe\">\n",
       "  <thead>\n",
       "    <tr style=\"text-align: right;\">\n",
       "      <th></th>\n",
       "      <th>Energiewirtschaft</th>\n",
       "      <th>Verarbeitendes Gewerbe</th>\n",
       "      <th>Verkehr</th>\n",
       "      <th>Übrige Feuerungsanlagen &amp; sonstige kleine Quellen</th>\n",
       "      <th>Diffuse Emissionen aus Brennstoffen</th>\n",
       "      <th>Industrieprozesse</th>\n",
       "      <th>Landwirtschaft</th>\n",
       "      <th>Abfall &amp; Abwasser</th>\n",
       "      <th>Summe</th>\n",
       "    </tr>\n",
       "  </thead>\n",
       "  <tbody>\n",
       "    <tr>\n",
       "      <th>1990</th>\n",
       "      <td>427.353073</td>\n",
       "      <td>186.708766</td>\n",
       "      <td>164.978128</td>\n",
       "      <td>220.311287</td>\n",
       "      <td>37.696693</td>\n",
       "      <td>96.832708</td>\n",
       "      <td>79.305198</td>\n",
       "      <td>38.301930</td>\n",
       "      <td>1251.487783</td>\n",
       "    </tr>\n",
       "    <tr>\n",
       "      <th>1991</th>\n",
       "      <td>413.164017</td>\n",
       "      <td>165.288102</td>\n",
       "      <td>167.961403</td>\n",
       "      <td>216.942028</td>\n",
       "      <td>36.673044</td>\n",
       "      <td>93.106233</td>\n",
       "      <td>71.545190</td>\n",
       "      <td>39.678086</td>\n",
       "      <td>1204.358104</td>\n",
       "    </tr>\n",
       "  </tbody>\n",
       "</table>\n",
       "</div>"
      ],
      "text/plain": [
       "      Energiewirtschaft  Verarbeitendes Gewerbe     Verkehr  \\\n",
       "1990         427.353073              186.708766  164.978128   \n",
       "1991         413.164017              165.288102  167.961403   \n",
       "\n",
       "      Übrige Feuerungsanlagen & sonstige kleine Quellen  \\\n",
       "1990                                         220.311287   \n",
       "1991                                         216.942028   \n",
       "\n",
       "      Diffuse Emissionen aus Brennstoffen  Industrieprozesse  Landwirtschaft  \\\n",
       "1990                            37.696693          96.832708       79.305198   \n",
       "1991                            36.673044          93.106233       71.545190   \n",
       "\n",
       "      Abfall & Abwasser        Summe  \n",
       "1990          38.301930  1251.487783  \n",
       "1991          39.678086  1204.358104  "
      ]
     },
     "execution_count": 4,
     "metadata": {},
     "output_type": "execute_result"
    }
   ],
   "source": [
    "# limit to the actual data\n",
    "df = _df.rename(columns={'Unnamed: 1': 'date'})\n",
    "# only include valid dates\n",
    "df = df.loc[(1990 <= df['date']) & (df['date'] <= 2018)]\n",
    "# remove last row, which reshows the 2017 number and seems to be wrong\n",
    "df.drop([len(df) - 1], inplace=True)\n",
    "# removed unused coloumns\n",
    "df.drop(columns=[k for k in df.keys() if 'Unnamed:' in k], inplace=True)\n",
    "# use year as index and make it integer\n",
    "df = df.set_index('date')\n",
    "# use only the german names\n",
    "df = df.rename(columns={k: k.split('/')[0].strip() for k in df.keys()})\n",
    "df.index = df.index.astype('i4')\n",
    "df.head(2)"
   ]
  },
  {
   "cell_type": "code",
   "execution_count": 5,
   "metadata": {},
   "outputs": [],
   "source": [
    "# aggregate\n",
    "df['Verarbeitendes Gewerbe +\\nIndustrieprozesse'] = \\\n",
    "    df['Verarbeitendes Gewerbe'] + df['Industrieprozesse']\n",
    "df['Übrige Feuerungsanlagen & sonstige kleine Quellen +\\nDiffuse Emissionen aus Brennstoffen'] = \\\n",
    "    df['Übrige Feuerungsanlagen & sonstige kleine Quellen'] + df['Diffuse Emissionen aus Brennstoffen']"
   ]
  },
  {
   "cell_type": "code",
   "execution_count": 6,
   "metadata": {},
   "outputs": [
    {
     "name": "stdout",
     "output_type": "stream",
     "text": [
      "Index(['Energiewirtschaft', 'Verarbeitendes Gewerbe', 'Verkehr',\n",
      "       'Übrige Feuerungsanlagen & sonstige kleine Quellen',\n",
      "       'Diffuse Emissionen aus Brennstoffen', 'Industrieprozesse',\n",
      "       'Landwirtschaft', 'Abfall & Abwasser', 'Summe',\n",
      "       'Verarbeitendes Gewerbe +\\nIndustrieprozesse',\n",
      "       'Übrige Feuerungsanlagen & sonstige kleine Quellen +\\nDiffuse Emissionen aus Brennstoffen'],\n",
      "      dtype='object')\n"
     ]
    }
   ],
   "source": [
    "print(df.keys())\n",
    "keys = [\n",
    "    #'Industrieprozesse',\n",
    "    #'Verarbeitendes Gewerbe',\n",
    "    'Verarbeitendes Gewerbe +\\nIndustrieprozesse',\n",
    "    'Energiewirtschaft',\n",
    "    'Landwirtschaft',\n",
    "    'Verkehr',\n",
    "    #'Diffuse Emissionen aus Brennstoffen',\n",
    "    #'Übrige Feuerungsanlagen & sonstige kleine Quellen',\n",
    "    'Übrige Feuerungsanlagen & sonstige kleine Quellen +\\nDiffuse Emissionen aus Brennstoffen',\n",
    "    #'Abfall & Abwasser',\n",
    "    #'Summe'\n",
    "]"
   ]
  },
  {
   "cell_type": "code",
   "execution_count": 7,
   "metadata": {},
   "outputs": [
    {
     "data": {
      "text/plain": [
       "4.0"
      ]
     },
     "execution_count": 7,
     "metadata": {},
     "output_type": "execute_result"
    }
   ],
   "source": [
    "28/7"
   ]
  },
  {
   "cell_type": "code",
   "execution_count": 8,
   "metadata": {},
   "outputs": [],
   "source": [
    "with plt.xkcd():\n",
    "    plt.rcParams['font.family'] = 'DejaVu Sans'\n",
    "    plt.rcParams['font.size'] = 12\n",
    "    kwargs = dict(alpha=0.3, align='center', width=0.8, stacked=False)\n",
    "    fig, ax = plt.subplots(1, 1, constrained_layout=True)\n",
    "    df.loc[df.index.isin(df.index[::7]), keys].plot.bar(ax=ax, **kwargs)\n",
    "    ax.grid(axis='y')\n",
    "    ax.axhline(163, color='darkred', ls='--', lw=3, alpha=0.3)\n",
    "    ax.set_ylabel('Treibhausgas-Emissonen in Mio. t CO2-equi.')\n",
    "    ax.set_ylim(0, 550)\n",
    "    #ax.legend(bbox_to_anchor=(0.5, -0.15)).get_frame().set_alpha(0.4)\n",
    "    ax.legend().get_frame().set_alpha(0.4)\n",
    "    #plt.setp(L.texts, family='Consolas')\n",
    "    plt.savefig('treibhausgase_nach_sektor.png')\n",
    "    plt.close()"
   ]
  },
  {
   "cell_type": "code",
   "execution_count": 9,
   "metadata": {},
   "outputs": [
    {
     "data": {
      "text/html": [
       "<img style='width: 600px' src=\"treibhausgase_nach_sektor.png\"></img>\n"
      ],
      "text/plain": [
       "<IPython.core.display.HTML object>"
      ]
     },
     "metadata": {},
     "output_type": "display_data"
    }
   ],
   "source": [
    "%%html\n",
    "<img style='width: 600px' src=\"treibhausgase_nach_sektor.png\"></img>"
   ]
  },
  {
   "cell_type": "code",
   "execution_count": 10,
   "metadata": {},
   "outputs": [],
   "source": [
    "with plt.xkcd():\n",
    "    plt.rcParams['font.family'] = 'DejaVu Sans'\n",
    "    plt.rcParams['font.size'] = 12\n",
    "    cumsum = df[['Summe']].cumsum()\\\n",
    "        .rename(columns={'Summe': 'In der Atmosphäre verbleibenden\\nTreibhausgase Deutschlands seit 1990'}) \\\n",
    "        * (1 - 0.45) \n",
    "    #percent = 55\n",
    "    #cumsum['%d%% davon verbleiben in Atmosphäre' % (percent)] = cumsum['Summe'] * percent/100\n",
    "    ax = cumsum[df.index.isin(df.index[::7])].plot.bar(alpha=0.3, color='0.4')\n",
    "    ax.set_ylabel('Treibhausgas-Emissonen in Mio. t CO2-equi.');\n",
    "    plt.savefig('treibhausgase_kumulativ.png')\n",
    "    plt.close()"
   ]
  },
  {
   "cell_type": "code",
   "execution_count": 11,
   "metadata": {},
   "outputs": [
    {
     "data": {
      "text/html": [
       "<img style='width: 600px' src=\"treibhausgase_kumulativ.png\"></img>\n"
      ],
      "text/plain": [
       "<IPython.core.display.HTML object>"
      ]
     },
     "metadata": {},
     "output_type": "display_data"
    }
   ],
   "source": [
    "%%html\n",
    "<img style='width: 600px' src=\"treibhausgase_kumulativ.png\"></img>"
   ]
  },
  {
   "cell_type": "code",
   "execution_count": null,
   "metadata": {},
   "outputs": [],
   "source": []
  }
 ],
 "metadata": {
  "kernelspec": {
   "display_name": "Python 3",
   "language": "python",
   "name": "python3"
  },
  "language_info": {
   "codemirror_mode": {
    "name": "ipython",
    "version": 3
   },
   "file_extension": ".py",
   "mimetype": "text/x-python",
   "name": "python",
   "nbconvert_exporter": "python",
   "pygments_lexer": "ipython3",
   "version": "3.8.2"
  }
 },
 "nbformat": 4,
 "nbformat_minor": 4
}
