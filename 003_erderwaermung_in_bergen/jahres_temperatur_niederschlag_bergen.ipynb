{
 "cells": [
  {
   "cell_type": "markdown",
   "metadata": {},
   "source": [
    "# Berechnung Jahresdurchschnittstemperatur und Niederschlag Bergen"
   ]
  },
  {
   "cell_type": "markdown",
   "metadata": {},
   "source": [
    "Die zu Bergen nächst gelegene Wetterstation ist Siegsdorf-Höll (719m) https://www.wetterdienst.de/Deutschlandwetter/Siegsdorf_Oberbayern/Klima/.\n",
    "\n",
    "Folgende Durschnittstemperaturen und mittlerer Niederschlag lassen sich Monatsweise ablesen und auf Jahreswerte umrechnen (*abgerufen 2020-07-26*):"
   ]
  },
  {
   "cell_type": "code",
   "execution_count": 1,
   "metadata": {},
   "outputs": [
    {
     "name": "stdout",
     "output_type": "stream",
     "text": [
      "Jahresniederschlag 1481 mm\n",
      "Jahresdurchschnittstemperatur 9.116666666666667 °C\n"
     ]
    }
   ],
   "source": [
    "import numpy as np\n",
    "\n",
    "rain_2015_2020 = np.array(\n",
    "    [142,92,76,90,181,181,149,133,144,113,84,96]\n",
    ")\n",
    "assert len(rain_2015_2020) == 12\n",
    "print('Jahresniederschlag', rain_2015_2020.sum(), 'mm')\n",
    "\n",
    "temperature_2015_2020 = np.array(\n",
    "    [-0.3,1.6,4.3,9.3,11.8,16.7,18.5,18.2,13.3,9.4,4.6,2.0]\n",
    ")\n",
    "assert len(temperature_2015_2020) == 12\n",
    "print('Jahresdurchschnittstemperatur', temperature_2015_2020.mean(), '°C')"
   ]
  },
  {
   "cell_type": "markdown",
   "metadata": {},
   "source": [
    "Es ergeben sich also für Siegsdorf-Höll (719m):\n",
    "* Jahresniederschlag: 1480mm\n",
    "* Jahresdurchschnittstemperatur: 9.1°C\n",
    "\n",
    "Auf Bergen (550m) lässt sich die Temperatur über den typischen Temperaturgradient der untersten Schicht der Atmosphäre (Troposphäre) von 0.65°C pro 100m Höhe berechnen:"
   ]
  },
  {
   "cell_type": "code",
   "execution_count": 7,
   "metadata": {},
   "outputs": [
    {
     "name": "stdout",
     "output_type": "stream",
     "text": [
      "jahres_temperature_bergen=10.215166666666667\n"
     ]
    }
   ],
   "source": [
    "temperatur_gradient = 0.65 / 100\n",
    "altitude_siegsdorf_hoell = 719\n",
    "altitude_bergen = 550\n",
    "\n",
    "jahres_temperature_bergen = (\n",
    "    temperature_2015_2020.mean() + \n",
    "    (altitude_siegsdorf_hoell - altitude_bergen) * temperatur_gradient\n",
    ")\n",
    "print(f'{jahres_temperature_bergen=}')"
   ]
  },
  {
   "cell_type": "markdown",
   "metadata": {},
   "source": [
    "Umgerechnet auf Bergen ergibt sich als Jahresdurchschnittstemperatur also 10.2°C."
   ]
  },
  {
   "cell_type": "code",
   "execution_count": 9,
   "metadata": {},
   "outputs": [
    {
     "data": {
      "text/plain": [
       "array([ 7.01516667,  8.61516667, 10.21516667, 11.81516667, 13.41516667])"
      ]
     },
     "execution_count": 9,
     "metadata": {},
     "output_type": "execute_result"
    }
   ],
   "source": [
    "jahres_temperature_bergen + 1.6 * np.arange(-2,3)"
   ]
  },
  {
   "cell_type": "code",
   "execution_count": null,
   "metadata": {},
   "outputs": [],
   "source": []
  }
 ],
 "metadata": {
  "kernelspec": {
   "display_name": "Python 3",
   "language": "python",
   "name": "python3"
  },
  "language_info": {
   "codemirror_mode": {
    "name": "ipython",
    "version": 3
   },
   "file_extension": ".py",
   "mimetype": "text/x-python",
   "name": "python",
   "nbconvert_exporter": "python",
   "pygments_lexer": "ipython3",
   "version": "3.8.2"
  }
 },
 "nbformat": 4,
 "nbformat_minor": 4
}
