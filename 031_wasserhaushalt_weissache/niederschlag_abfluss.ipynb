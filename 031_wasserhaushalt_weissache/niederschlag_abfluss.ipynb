{
 "cells": [
  {
   "cell_type": "code",
   "execution_count": 1,
   "id": "9ba50d87-7e2f-4717-b68e-53d853ebe2f7",
   "metadata": {},
   "outputs": [],
   "source": [
    "%reset -f\n",
    "%matplotlib agg\n",
    "%load_ext watermark"
   ]
  },
  {
   "cell_type": "code",
   "execution_count": 2,
   "id": "b0bf6ca4-f5d1-4118-9c90-c8c71ac88a66",
   "metadata": {},
   "outputs": [],
   "source": [
    "#%matplotlib --list"
   ]
  },
  {
   "cell_type": "markdown",
   "id": "4e4f27fe-5573-48fd-9c01-7ce751cbecc0",
   "metadata": {
    "tags": []
   },
   "source": [
    "# Wasserhaushalt Weißache Bergen, Niederschlag vs. Abfluss\n",
    "\n",
    "**Literaturverzeichnis:**\n",
    "* [1] Abfluss WWA-TS \"Weiße Ache Bergen\", Messstellennr. 18465600\n",
    "    - URL: https://www.gkd.bayern.de/de/fluesse/abfluss/bayern/bergen-18465600\n",
    "* [2] Niederschlag DWD \"Siegsdorf-Maria Eck\", Stationsnr. 04697\n",
    "    - URL: https://opendata.dwd.de/climate_environment/CDC/observations_germany/climate/daily/more_precip/historical/tageswerte_RR_04697_19510101_20211231_hist.zip\n",
    "    - URL: https://opendata.dwd.de/climate_environment/CDC/observations_germany/climate/daily/more_precip/recent/tageswerte_RR_04697_akt.zip\n",
    "* Wasserbedarf Wald 320 l/m² Buche, 390 l/m² Fichte:\n",
    "  - [3] Planzen Ökologie, Gehard Lerch, Akademie Verlag, 1991, Seite 127\n",
    "  - [4] https://naturwald-akademie.org/waldwissen/wissenschaft-und-politik-fuer-den-wald/wie-viel-wasser-braucht-der-wald/\n",
    "  - [5] https://www.lwf.bayern.de/mam/cms04/boden-klima/dateien/a66-wasserverbrauch-von-waeldern.pdf \n",
    "  - [6] https://www.waldwissen.net/de/lebensraum-wald/waldboden/wald-und-gesamtwasserhaushalt\n"
   ]
  },
  {
   "cell_type": "code",
   "execution_count": 3,
   "id": "7db675f2-ea32-4f48-a6aa-63dad06ee99d",
   "metadata": {},
   "outputs": [
    {
     "name": "stdout",
     "output_type": "stream",
     "text": [
      "numpy     : 1.23.3\n",
      "pandas    : 1.5.0\n",
      "matplotlib: 3.6.1\n",
      "ipywidgets: 8.0.2\n",
      "\n"
     ]
    }
   ],
   "source": [
    "from datetime import datetime\n",
    "from pathlib import Path\n",
    "\n",
    "import ipywidgets as widgets\n",
    "import matplotlib.pyplot as plt\n",
    "import numpy as np\n",
    "import pandas as pd\n",
    "from matplotlib.ticker import FuncFormatter\n",
    "\n",
    "import util as ut\n",
    "\n",
    "%watermark -iv"
   ]
  },
  {
   "cell_type": "code",
   "execution_count": 4,
   "id": "572dbbbd-d92b-476c-8c6f-630fb6270c53",
   "metadata": {},
   "outputs": [],
   "source": [
    "# pd.set_option(\"display.max_rows\", 20)"
   ]
  },
  {
   "cell_type": "code",
   "execution_count": 5,
   "id": "4227062f-e0ec-4cfb-87bc-acbbf9affa7e",
   "metadata": {
    "tags": []
   },
   "outputs": [
    {
     "data": {
      "text/html": [
       "<div>\n",
       "<style scoped>\n",
       "    .dataframe tbody tr th:only-of-type {\n",
       "        vertical-align: middle;\n",
       "    }\n",
       "\n",
       "    .dataframe tbody tr th {\n",
       "        vertical-align: top;\n",
       "    }\n",
       "\n",
       "    .dataframe thead th {\n",
       "        text-align: right;\n",
       "    }\n",
       "</style>\n",
       "<table border=\"1\" class=\"dataframe\">\n",
       "  <thead>\n",
       "    <tr style=\"text-align: right;\">\n",
       "      <th></th>\n",
       "      <th>STATIONS_ID</th>\n",
       "      <th>QN_6</th>\n",
       "      <th>RS</th>\n",
       "      <th>RSF</th>\n",
       "      <th>SH_TAG</th>\n",
       "      <th>NSH_TAG</th>\n",
       "      <th>eor</th>\n",
       "    </tr>\n",
       "    <tr>\n",
       "      <th>MESS_DATUM</th>\n",
       "      <th></th>\n",
       "      <th></th>\n",
       "      <th></th>\n",
       "      <th></th>\n",
       "      <th></th>\n",
       "      <th></th>\n",
       "      <th></th>\n",
       "    </tr>\n",
       "  </thead>\n",
       "  <tbody>\n",
       "    <tr>\n",
       "      <th>2022-10-21</th>\n",
       "      <td>4697</td>\n",
       "      <td>1</td>\n",
       "      <td>3.8</td>\n",
       "      <td>6</td>\n",
       "      <td>0.0</td>\n",
       "      <td>0.0</td>\n",
       "      <td>eor</td>\n",
       "    </tr>\n",
       "    <tr>\n",
       "      <th>2022-10-22</th>\n",
       "      <td>4697</td>\n",
       "      <td>1</td>\n",
       "      <td>6.5</td>\n",
       "      <td>6</td>\n",
       "      <td>0.0</td>\n",
       "      <td>0.0</td>\n",
       "      <td>eor</td>\n",
       "    </tr>\n",
       "  </tbody>\n",
       "</table>\n",
       "</div>"
      ],
      "text/plain": [
       "            STATIONS_ID  QN_6   RS  RSF  SH_TAG  NSH_TAG  eor\n",
       "MESS_DATUM                                                   \n",
       "2022-10-21         4697     1  3.8    6     0.0      0.0  eor\n",
       "2022-10-22         4697     1  6.5    6     0.0      0.0  eor"
      ]
     },
     "execution_count": 5,
     "metadata": {},
     "output_type": "execute_result"
    }
   ],
   "source": [
    "date_n, rs = \"MESS_DATUM\", \"RS\"\n",
    "filenames = [\n",
    "    # 1951 - 2021\n",
    "    \"../weisse_ache/niederschlag/tageswerte_RR_04697_19510101_20211231_hist/\"\n",
    "    \"produkt_nieder_tag_19510101_20211231_04697.txt\",\n",
    "    # 2021-04-21 - 2022-10-22\n",
    "    \"../weisse_ache/niederschlag/tageswerte_RR_04697_akt/\"\n",
    "    \"produkt_nieder_tag_20210421_20221022_04697.txt\",\n",
    "]\n",
    "\n",
    "dfn = (\n",
    "    pd.concat([ut.dwd_read_csv(f) for f in filenames])\n",
    "    .set_index(date_n)\n",
    "    .pipe(lambda x: x.groupby(x.index).first())  # drop duplicates\n",
    ")\n",
    "dfn.tail(2)"
   ]
  },
  {
   "cell_type": "code",
   "execution_count": 6,
   "id": "b63fa981-b062-45ac-9775-793a39ed2cf9",
   "metadata": {
    "tags": []
   },
   "outputs": [
    {
     "data": {
      "text/html": [
       "<div>\n",
       "<style scoped>\n",
       "    .dataframe tbody tr th:only-of-type {\n",
       "        vertical-align: middle;\n",
       "    }\n",
       "\n",
       "    .dataframe tbody tr th {\n",
       "        vertical-align: top;\n",
       "    }\n",
       "\n",
       "    .dataframe thead th {\n",
       "        text-align: right;\n",
       "    }\n",
       "</style>\n",
       "<table border=\"1\" class=\"dataframe\">\n",
       "  <thead>\n",
       "    <tr style=\"text-align: right;\">\n",
       "      <th></th>\n",
       "      <th>Mittelwert</th>\n",
       "      <th>Maximum</th>\n",
       "      <th>Minimum</th>\n",
       "      <th>Prüfstatus</th>\n",
       "    </tr>\n",
       "    <tr>\n",
       "      <th>Datum</th>\n",
       "      <th></th>\n",
       "      <th></th>\n",
       "      <th></th>\n",
       "      <th></th>\n",
       "    </tr>\n",
       "  </thead>\n",
       "  <tbody>\n",
       "    <tr>\n",
       "      <th>2022-10-22</th>\n",
       "      <td>0.484</td>\n",
       "      <td>0.837</td>\n",
       "      <td>0.336</td>\n",
       "      <td>Rohdaten</td>\n",
       "    </tr>\n",
       "    <tr>\n",
       "      <th>2022-10-23</th>\n",
       "      <td>0.519</td>\n",
       "      <td>0.692</td>\n",
       "      <td>0.384</td>\n",
       "      <td>Rohdaten</td>\n",
       "    </tr>\n",
       "  </tbody>\n",
       "</table>\n",
       "</div>"
      ],
      "text/plain": [
       "            Mittelwert  Maximum  Minimum Prüfstatus\n",
       "Datum                                              \n",
       "2022-10-22       0.484    0.837    0.336   Rohdaten\n",
       "2022-10-23       0.519    0.692    0.384   Rohdaten"
      ]
     },
     "execution_count": 6,
     "metadata": {},
     "output_type": "execute_result"
    }
   ],
   "source": [
    "# Datenquelle: Bayerisches Landesamt für Umwelt, www.lfu.bayern.de\n",
    "date_a, m3 = \"Datum\", \"Mittelwert\"\n",
    "filenames = [\n",
    "    # 1976 - 2021\n",
    "    \"../weisse_ache/fluesse-abfluss/06223b6dc4edfd31a7a2ed74d4fc938b/fluesse-abfluss/\"\n",
    "    \"18465600_beginn_bis_31.12.2021_tmw.csv\",\n",
    "    # 2022 Jan - Sep\n",
    "    \"../weisse_ache/fluesse-abfluss/23772c4a005fda1d0a71c55f5544faa1/fluesse-abfluss/\"\n",
    "    \"18465600_01.01.2022_30.09.2022_tmw.csv\",\n",
    "    # 2022 Okt\n",
    "    \"../weisse_ache/fluesse-abfluss/23772c4a005fda1d0a71c55f5544faa1/fluesse-abfluss/\"\n",
    "    \"18465600_01.10.2022_22.10.2022_tmw.csv\",\n",
    "    # 2022 23. Okt\n",
    "    \"../weisse_ache/fluesse-abfluss/23772c4a005fda1d0a71c55f5544faa1/fluesse-abfluss/\"\n",
    "    \"18465600_23.10.2022_tmw.csv\",\n",
    "]\n",
    "dfa = (\n",
    "    pd.concat([ut.hnd_read_csv(f, n_header_lines=10) for f in filenames])\n",
    "    .set_index(date_a)\n",
    "    .iloc[2:]  # removes 1956 values\n",
    ")\n",
    "\n",
    "dfa.tail(2)"
   ]
  },
  {
   "cell_type": "code",
   "execution_count": 7,
   "id": "fff99ab0-0558-4c6d-8540-43242453e934",
   "metadata": {},
   "outputs": [],
   "source": [
    "assert dfa[dfa[\"Prüfstatus\"] != \"Geprueft\"].index[0] >= pd.Timestamp(2021, 1, 1)"
   ]
  },
  {
   "cell_type": "code",
   "execution_count": 8,
   "id": "b1a1bf90-f03e-4c14-a097-aed80fbe39cb",
   "metadata": {
    "tags": []
   },
   "outputs": [],
   "source": [
    "# dmask = lambda x: (pd.Timestamp(1977, 1, 1) <= x.index) & (\n",
    "#    x.index < pd.Timestamp(2022, 1, 1)\n",
    "# )\n",
    "\n",
    "df_orig = pd.merge(dfn, dfa, left_index=True, right_index=True)[\n",
    "    [rs, m3]\n",
    "]  # .loc[dmask, [rs, m3]]"
   ]
  },
  {
   "cell_type": "code",
   "execution_count": 9,
   "id": "e422cbed-2d0e-4b67-9438-fcbbc3784e9d",
   "metadata": {},
   "outputs": [
    {
     "data": {
      "text/html": [
       "<div>\n",
       "<style scoped>\n",
       "    .dataframe tbody tr th:only-of-type {\n",
       "        vertical-align: middle;\n",
       "    }\n",
       "\n",
       "    .dataframe tbody tr th {\n",
       "        vertical-align: top;\n",
       "    }\n",
       "\n",
       "    .dataframe thead th {\n",
       "        text-align: right;\n",
       "    }\n",
       "</style>\n",
       "<table border=\"1\" class=\"dataframe\">\n",
       "  <thead>\n",
       "    <tr style=\"text-align: right;\">\n",
       "      <th></th>\n",
       "      <th>RS</th>\n",
       "      <th>Mittelwert</th>\n",
       "      <th>diff</th>\n",
       "      <th>N_group</th>\n",
       "      <th>N_nan</th>\n",
       "      <th>start</th>\n",
       "      <th>stop</th>\n",
       "    </tr>\n",
       "  </thead>\n",
       "  <tbody>\n",
       "    <tr>\n",
       "      <th>1977</th>\n",
       "      <td>3.760849e+07</td>\n",
       "      <td>2.556615e+07</td>\n",
       "      <td>1.204234e+07</td>\n",
       "      <td>365</td>\n",
       "      <td>0</td>\n",
       "      <td>1976-11-01</td>\n",
       "      <td>1977-10-31</td>\n",
       "    </tr>\n",
       "    <tr>\n",
       "      <th>1978</th>\n",
       "      <td>3.200285e+07</td>\n",
       "      <td>2.175451e+07</td>\n",
       "      <td>1.024834e+07</td>\n",
       "      <td>365</td>\n",
       "      <td>0</td>\n",
       "      <td>1977-11-01</td>\n",
       "      <td>1978-10-31</td>\n",
       "    </tr>\n",
       "    <tr>\n",
       "      <th>2021</th>\n",
       "      <td>2.721918e+07</td>\n",
       "      <td>2.194516e+07</td>\n",
       "      <td>5.274025e+06</td>\n",
       "      <td>365</td>\n",
       "      <td>0</td>\n",
       "      <td>2020-11-01</td>\n",
       "      <td>2021-10-31</td>\n",
       "    </tr>\n",
       "    <tr>\n",
       "      <th>2022</th>\n",
       "      <td>2.537908e+07</td>\n",
       "      <td>1.853991e+07</td>\n",
       "      <td>6.839165e+06</td>\n",
       "      <td>356</td>\n",
       "      <td>0</td>\n",
       "      <td>2021-11-01</td>\n",
       "      <td>2022-10-22</td>\n",
       "    </tr>\n",
       "  </tbody>\n",
       "</table>\n",
       "</div>"
      ],
      "text/plain": [
       "                RS    Mittelwert          diff  N_group  N_nan      start  \\\n",
       "1977  3.760849e+07  2.556615e+07  1.204234e+07      365      0 1976-11-01   \n",
       "1978  3.200285e+07  2.175451e+07  1.024834e+07      365      0 1977-11-01   \n",
       "2021  2.721918e+07  2.194516e+07  5.274025e+06      365      0 2020-11-01   \n",
       "2022  2.537908e+07  1.853991e+07  6.839165e+06      356      0 2021-11-01   \n",
       "\n",
       "           stop  \n",
       "1977 1977-10-31  \n",
       "1978 1978-10-31  \n",
       "2021 2021-10-31  \n",
       "2022 2022-10-22  "
      ]
     },
     "execution_count": 9,
     "metadata": {},
     "output_type": "execute_result"
    }
   ],
   "source": [
    "# Abflussjahr vom 01.11. bis zum 31.10., see\n",
    "# https://www.gkd.bayern.de/de/fluesse/abfluss/bayern/bergen-18465600/statistik\n",
    "\n",
    "FREQ = \"AS-NOV\"\n",
    "DATE = \"year\"\n",
    "diff = \"diff\"\n",
    "\n",
    "\n",
    "def calc(freq=FREQ):\n",
    "    df = (\n",
    "        df_orig.groupby(pd.Grouper(freq=freq, closed=\"left\"))\n",
    "        .apply(\n",
    "            lambda x: pd.Series(\n",
    "                {\n",
    "                    rs: (vrs := x[rs].mean() * 365.25 * 1e-3 * 18.5 * 1e6),\n",
    "                    m3: (vm3 := x[m3].mean() * 3600 * 24 * 365.25),\n",
    "                    diff: vrs - vm3,\n",
    "                    \"N_group\": len(x),\n",
    "                    \"N_nan\": np.isnan(x[rs]).sum() + np.isnan(x[m3]).sum(),\n",
    "                    \"start\": x.index[0],\n",
    "                    \"stop\": x.index[-1],\n",
    "                }\n",
    "            )\n",
    "        )\n",
    "        .pipe(lambda x: x.set_index(x.index.strftime(\"%Y\").astype(\"i\") + 1))\n",
    "    )\n",
    "    return df\n",
    "\n",
    "\n",
    "pd.concat([calc().head(2), calc().tail(2)])"
   ]
  },
  {
   "cell_type": "code",
   "execution_count": 10,
   "id": "677be755-18f8-452c-b737-eea6d7aaa702",
   "metadata": {},
   "outputs": [],
   "source": [
    "# %matplotlib widget\n",
    "# plt.close(\"all\")\n",
    "\n",
    "df = calc(\"AS-NOV\")\n",
    "roll = df[[rs, m3, diff]].rolling(window=20, center=True).apply(np.nanmean)\n",
    "fig, ax = plt.subplots(figsize=(12.5, 7), clear=True, layout=\"tight\", num=\" \")  # 12.5\n",
    "ax.grid()\n",
    "\n",
    "for key, offset, width, color, color2, label in zip(\n",
    "    [rs, m3, diff],\n",
    "    [-0.2, 0.2, 0],\n",
    "    [0.4, 0.4, 0.8],\n",
    "    [\"tab:blue\", \"tab:green\", \"0.4\"],\n",
    "    [\"darkblue\", \"darkgreen\", \"k\"],\n",
    "    [\n",
    "        \"Jahresgebietsniederschlag\",\n",
    "        \"Jahresabfluss\",\n",
    "        \"Differenz: Niederschlag - Abfluss\",\n",
    "    ],\n",
    "):\n",
    "    # ax.plot(df.index, df[key], color=color, label=label)\n",
    "    ax.bar(df.index + offset, df[key], color=color, alpha=0.9, width=width, label=label)\n",
    "    ax.plot(roll.index, roll[key], color=color2, lw=3)\n",
    "\n",
    "ax.set_ylim(0, None)\n",
    "ax.set_xlim(1976 + 0.4, 2022 + 0.5)\n",
    "ax.yaxis.set_major_formatter(FuncFormatter(lambda x, pos: f\"{x/1e6:g}\"))\n",
    "ax.axhline(1e6, color=\"k\", alpha=0.8)\n",
    "ax.set_ylabel(\"Jahreswassermenge [$Millionen\\;m^3$]\")\n",
    "ax.set_xlabel(\"Datum\")\n",
    "ax.legend().get_frame().set_alpha(0.8)\n",
    "\n",
    "ax2 = ax.twinx()\n",
    "ax2.set_ylabel(\"Jahresniederschlag $[l/m^2]$\")\n",
    "ax2.set_ylim(ax.get_ylim())\n",
    "ax2.yaxis.set_major_formatter(FuncFormatter(lambda x, pos: f\"{x*1e3/18.5e6:.0f}\"))\n",
    "ax2.format_coord = lambda x, y: f\"x={x:.0f}, y=({y/1e6:.1f}, {y/18.5e3:.0f})\"\n",
    "\n",
    "fig.savefig(\"niederschlag-abfluss.svg\") # , dpi=600)"
   ]
  },
  {
   "cell_type": "code",
   "execution_count": 11,
   "id": "5f3b0b9d-60cd-4e62-bb1c-8f3a09dbd5bf",
   "metadata": {},
   "outputs": [
    {
     "data": {
      "text/html": [
       "<img src=\"niederschlag-abfluss.svg\" width=\"800\" />\n"
      ],
      "text/plain": [
       "<IPython.core.display.HTML object>"
      ]
     },
     "metadata": {},
     "output_type": "display_data"
    }
   ],
   "source": [
    "%%html\n",
    "<img src=\"niederschlag-abfluss.svg\" width=\"800\" />"
   ]
  },
  {
   "cell_type": "code",
   "execution_count": 12,
   "id": "19457cf0-0040-41ab-b40c-1f162285f618",
   "metadata": {},
   "outputs": [],
   "source": [
    "prc = df[diff] / df[rs]\n",
    "\n",
    "fix, ax = plt.subplots(figsize=(10, 6), clear=True, layout=\"tight\", num=\" \")\n",
    "ax.bar(df.index, prc, color=\"0.4\", alpha=0.8, width=0.9)\n",
    "ax.plot(\n",
    "    df.index,\n",
    "    prc.rolling(window=20, center=True).apply(np.nanmean),\n",
    "    \"k\",\n",
    "    lw=3,\n",
    ")\n",
    "ax.yaxis.set_major_formatter(FuncFormatter(lambda x, pos: f\"{x*1e2:g}%\"))\n",
    "ax.grid()\n",
    "ax.set_xlim(1977 + 0.4, 2020 + 0.5)\n",
    "ax.set_ylim(0, None)\n",
    "ax.set_ylabel(\"Nicht abgeflossener Niederschlag\")\n",
    "ax.set_xlabel(\"Datum\")\n",
    "\n",
    "fig.savefig(\"prc_niederschlag-abfluss.svg\") #, dpi=600)"
   ]
  },
  {
   "cell_type": "code",
   "execution_count": 13,
   "id": "b6ad7b91-fcc9-4df4-bdd8-01176670d734",
   "metadata": {},
   "outputs": [
    {
     "data": {
      "text/html": [
       "<img src=\"prc_niederschlag-abfluss.svg\" width=\"800\" />\n"
      ],
      "text/plain": [
       "<IPython.core.display.HTML object>"
      ]
     },
     "metadata": {},
     "output_type": "display_data"
    }
   ],
   "source": [
    "%%html\n",
    "<img src=\"prc_niederschlag-abfluss.svg\" width=\"800\" />"
   ]
  },
  {
   "cell_type": "markdown",
   "id": "16feda88-6369-44ba-aade-ab8e68de2fe5",
   "metadata": {},
   "source": [
    "# Wasserbedarf Vegitation\n",
    "\n",
    "[bayernatlas_einzugsgebiet_marked_small.jpg](bayernatlas_einzugsgebiet_marked_small.jpg) zeigt das Einzugsgebiet und dessen prozentuale Bewaldung.\n"
   ]
  },
  {
   "cell_type": "code",
   "execution_count": 14,
   "id": "57cb3b82-7670-4fa9-91a1-4ce77e3309de",
   "metadata": {},
   "outputs": [
    {
     "data": {
      "text/html": [
       "<img src=\"bayernatlas_einzugsgebiet_marked_small.jpg\" width=\"600\">\n"
      ],
      "text/plain": [
       "<IPython.core.display.HTML object>"
      ]
     },
     "metadata": {},
     "output_type": "display_data"
    }
   ],
   "source": [
    "%%html\n",
    "<img src=\"bayernatlas_einzugsgebiet_marked_small.jpg\" width=\"600\">"
   ]
  },
  {
   "cell_type": "code",
   "execution_count": 15,
   "id": "9e381666-ee05-4912-b9a6-2800e2f95f30",
   "metadata": {},
   "outputs": [
    {
     "data": {
      "text/plain": [
       "'76.5% bewaldet'"
      ]
     },
     "execution_count": 15,
     "metadata": {},
     "output_type": "execute_result"
    }
   ],
   "source": [
    "perc_forest = 91 / (28 + 91)\n",
    "f\"{perc_forest*1e2:.1f}% bewaldet\""
   ]
  },
  {
   "cell_type": "code",
   "execution_count": 16,
   "id": "2923e982-dfc5-487b-a8db-0025faffd9e6",
   "metadata": {},
   "outputs": [
    {
     "data": {
      "text/plain": [
       "'Wasserbedarf Wald im Einzugsgebiet 5.02 Mio m³'"
      ]
     },
     "execution_count": 16,
     "metadata": {},
     "output_type": "execute_result"
    }
   ],
   "source": [
    "beech = 320  # l/m² [3,4,5,6]\n",
    "spruce = 390  # l/m² [3,4,5,6]\n",
    "water_forest = np.mean([spruce, beech]) / 1e3 * 18.5e6 * perc_forest\n",
    "f\"Wasserbedarf Wald im Einzugsgebiet {water_forest/1e6:.2f} Mio m³\""
   ]
  },
  {
   "cell_type": "markdown",
   "id": "ef15d47f-06ee-4802-a323-4d1850d3b595",
   "metadata": {},
   "source": [
    "# Appendix"
   ]
  },
  {
   "cell_type": "markdown",
   "id": "1f1b9c3a-068e-4678-b11d-b6acea89eba3",
   "metadata": {},
   "source": [
    "## Interactive Plot"
   ]
  },
  {
   "cell_type": "raw",
   "id": "3f6c6c20-f15e-4e25-a7d5-e41b7b5d080d",
   "metadata": {},
   "source": [
    "%matplotlib widget\n",
    "\n",
    "ANCHORED_OFFSETS = [\n",
    "    f\"AS-{m}\" for m in \"JAN FEB MAR APR MAY JUN JUL AUG SEP OCT NOV DEC\".split()\n",
    "]\n",
    "\n",
    "plt.close(\"all\")\n",
    "fix, ax = plt.subplots(figsize=(10, 6), clear=True, layout=\"tight\", num=\" \")\n",
    "ax.grid()\n",
    "\n",
    "\n",
    "@widgets.interact(\n",
    "    freq=widgets.SelectionSlider(\n",
    "        options=ANCHORED_OFFSETS,\n",
    "        value=FREQ,\n",
    "        layout=widgets.Layout(width=\"900px\"),\n",
    "        style={\"description_width\": \"250px\"},\n",
    "    )\n",
    ")\n",
    "def func(freq):\n",
    "    df = calc(freq)\n",
    "\n",
    "    [l.remove() for l in ax.lines]\n",
    "\n",
    "    roll = df[[rs, m3, diff]].rolling(window=20, center=True).apply(np.nanmean)\n",
    "\n",
    "    for key, offset, width, color in zip(\n",
    "        [rs, m3, diff],\n",
    "        [-0.2, 0.2, 0],\n",
    "        [0.4, 0.4, 0.8],\n",
    "        [\"tab:blue\", \"tab:green\", \"0.4\"],\n",
    "    ):\n",
    "        ax.plot(df.index, df[key], color=color)\n",
    "        ax.plot(roll.index, roll[key], color=color, lw=3)\n",
    "\n",
    "    ax.set_ylim(-1e6, None)"
   ]
  }
 ],
 "metadata": {
  "kernelspec": {
   "display_name": "Python 3 (ipykernel)",
   "language": "python",
   "name": "python3"
  },
  "language_info": {
   "codemirror_mode": {
    "name": "ipython",
    "version": 3
   },
   "file_extension": ".py",
   "mimetype": "text/x-python",
   "name": "python",
   "nbconvert_exporter": "python",
   "pygments_lexer": "ipython3",
   "version": "3.10.1"
  }
 },
 "nbformat": 4,
 "nbformat_minor": 5
}
