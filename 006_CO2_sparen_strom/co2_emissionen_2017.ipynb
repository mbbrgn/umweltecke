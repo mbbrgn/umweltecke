{
 "cells": [
  {
   "cell_type": "markdown",
   "metadata": {},
   "source": [
    "# Emissionsquellen\n",
    "\n",
    "Daten Quelle: https://www.umweltbundesamt.de/sites/default/files/medien/361/bilder/dateien/2020_thg_crf_plus_1a_details_ci.xlsx"
   ]
  },
  {
   "cell_type": "code",
   "execution_count": 2,
   "metadata": {},
   "outputs": [
    {
     "name": "stderr",
     "output_type": "stream",
     "text": [
      "Matplotlib is building the font cache; this may take a moment.\n"
     ]
    }
   ],
   "source": [
    "%reset -f\n",
    "%matplotlib agg"
   ]
  },
  {
   "cell_type": "code",
   "execution_count": 3,
   "metadata": {},
   "outputs": [],
   "source": [
    "import pandas as pd\n",
    "import matplotlib.pyplot as plt\n",
    "from IPython.display import display, Image\n",
    "\n",
    "plt.rcParams['figure.figsize'] = (8, 6)"
   ]
  },
  {
   "cell_type": "code",
   "execution_count": 31,
   "metadata": {},
   "outputs": [
    {
     "data": {
      "text/html": [
       "<div>\n",
       "<style scoped>\n",
       "    .dataframe tbody tr th:only-of-type {\n",
       "        vertical-align: middle;\n",
       "    }\n",
       "\n",
       "    .dataframe tbody tr th {\n",
       "        vertical-align: top;\n",
       "    }\n",
       "\n",
       "    .dataframe thead th {\n",
       "        text-align: right;\n",
       "    }\n",
       "</style>\n",
       "<table border=\"1\" class=\"dataframe\">\n",
       "  <thead>\n",
       "    <tr style=\"text-align: right;\">\n",
       "      <th></th>\n",
       "      <th>Bereich</th>\n",
       "      <th>Mio. Tonnen</th>\n",
       "    </tr>\n",
       "  </thead>\n",
       "  <tbody>\n",
       "    <tr>\n",
       "      <th>0</th>\n",
       "      <td>Energie-\\nwirtschaft</td>\n",
       "      <td>315</td>\n",
       "    </tr>\n",
       "    <tr>\n",
       "      <th>1</th>\n",
       "      <td>Gebäude</td>\n",
       "      <td>120</td>\n",
       "    </tr>\n",
       "    <tr>\n",
       "      <th>2</th>\n",
       "      <td>Industrie</td>\n",
       "      <td>130</td>\n",
       "    </tr>\n",
       "    <tr>\n",
       "      <th>3</th>\n",
       "      <td>Verkehr</td>\n",
       "      <td>170</td>\n",
       "    </tr>\n",
       "    <tr>\n",
       "      <th>4</th>\n",
       "      <td>Sonstige</td>\n",
       "      <td>15</td>\n",
       "    </tr>\n",
       "  </tbody>\n",
       "</table>\n",
       "</div>"
      ],
      "text/plain": [
       "                Bereich  Mio. Tonnen\n",
       "0  Energie-\\nwirtschaft          315\n",
       "1               Gebäude          120\n",
       "2             Industrie          130\n",
       "3               Verkehr          170\n",
       "4              Sonstige           15"
      ]
     },
     "execution_count": 31,
     "metadata": {},
     "output_type": "execute_result"
    }
   ],
   "source": [
    "data = [\n",
    "# (\"Energiewirtschaft\", 315),  \n",
    "(\"Energie-\\nwirtschaft\", 315),  \n",
    "(\"Gebäude\", 120),  \n",
    "(\"Industrie\", 130),  \n",
    "(\"Verkehr\", 170),  \n",
    "(\"Sonstige\", 15), \n",
    "]\n",
    "df = pd.DataFrame(data, columns=(\"Bereich\", \"Mio. Tonnen\"))\n",
    "df"
   ]
  },
  {
   "cell_type": "code",
   "execution_count": 36,
   "metadata": {},
   "outputs": [],
   "source": [
    "with plt.xkcd():\n",
    "    plt.rcParams['font.family'] = 'DejaVu Sans'\n",
    "    plt.rcParams['font.size'] = 16\n",
    "    kwargs = dict(alpha=0.3, align='center', width=0.8, stacked=False, legend=None)\n",
    "    fig, ax = plt.subplots(1, 1, constrained_layout=True)\n",
    "    df.plot.bar(ax=ax, x='Bereich', color=\"0.2\", **kwargs)\n",
    "    ax.grid(axis='y')\n",
    "    #ax.axhline(163, color='darkred', ls='--', lw=3, alpha=0.3)\n",
    "    ax.set_ylabel('CO2 Emissonen in Mio. t')\n",
    "    ax.set_xlabel('')\n",
    "    #ax.set_ylim(0, 550)\n",
    "    #ax.legend(bbox_to_anchor=(0.5, -0.15)).get_frame().set_alpha(0.4)\n",
    "    #ax.legend().get_frame().set_alpha(0.25)\n",
    "    #plt.setp(L.texts, family='Consolas')\n",
    "    plt.savefig('treibhausgase_nach_sektoren_2017.png')\n",
    "    plt.close()"
   ]
  },
  {
   "cell_type": "code",
   "execution_count": 37,
   "metadata": {},
   "outputs": [
    {
     "data": {
      "text/html": [
       "<img style='width: 600px' src=\"treibhausgase_nach_bereich_2017.png\"></img>\n"
      ],
      "text/plain": [
       "<IPython.core.display.HTML object>"
      ]
     },
     "metadata": {},
     "output_type": "display_data"
    }
   ],
   "source": [
    "%%html\n",
    "<img style='width: 600px' src=\"treibhausgase_nach_sektoren_2017.png\"></img>"
   ]
  },
  {
   "cell_type": "code",
   "execution_count": null,
   "metadata": {},
   "outputs": [],
   "source": []
  }
 ],
 "metadata": {
  "kernelspec": {
   "display_name": "Python 3",
   "language": "python",
   "name": "python3"
  },
  "language_info": {
   "codemirror_mode": {
    "name": "ipython",
    "version": 3
   },
   "file_extension": ".py",
   "mimetype": "text/x-python",
   "name": "python",
   "nbconvert_exporter": "python",
   "pygments_lexer": "ipython3",
   "version": "3.8.2"
  }
 },
 "nbformat": 4,
 "nbformat_minor": 4
}
