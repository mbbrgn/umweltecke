{
 "cells": [
  {
   "cell_type": "markdown",
   "metadata": {},
   "source": [
    "# Emissionsquellen\n",
    "\n",
    "Daten Quelle: https://www.umweltbundesamt.de/sites/default/files/medien/361/bilder/dateien/2020_thg_crf_plus_1a_details_ci.xlsx"
   ]
  },
  {
   "cell_type": "code",
   "execution_count": 1,
   "metadata": {},
   "outputs": [],
   "source": [
    "%reset -f\n",
    "%matplotlib agg"
   ]
  },
  {
   "cell_type": "code",
   "execution_count": 2,
   "metadata": {},
   "outputs": [],
   "source": [
    "import pandas as pd\n",
    "import matplotlib.pyplot as plt\n",
    "from IPython.display import display, Image\n",
    "\n",
    "plt.rcParams['figure.figsize'] = (8, 6)"
   ]
  },
  {
   "cell_type": "raw",
   "metadata": {},
   "source": [
    "data = [\n",
    "# (\"Energiewirtschaft\", 315),  \n",
    "(\"Rindfleisch\", 60),  \n",
    "(\"Schaffleisch\", 24),  \n",
    "(\"Käse\", 21),  \n",
    "(\"Kuhfleisch\\n(Milchherde)\", 21),  \n",
    "(\"Schokolade\", 19),\n",
    "(\"Fisch\", 5.0),\n",
    "(\"Eier\", 4.5),\n",
    "(\"Milch\", 3.0),\n",
    "(\"Weizen\", 1.4),\n",
    "(\"Tomaten\", 1.4),\n",
    "(\"Mais\", 1.0),\n",
    "(\"Wurzelgemüse\", 0.4),\n",
    "][::-1]\n",
    "df = pd.DataFrame(data, columns=(\"Bereich\", \"Mio. Tonnen\"))\n",
    "df"
   ]
  },
  {
   "cell_type": "code",
   "execution_count": 63,
   "metadata": {},
   "outputs": [
    {
     "data": {
      "text/html": [
       "<div>\n",
       "<style scoped>\n",
       "    .dataframe tbody tr th:only-of-type {\n",
       "        vertical-align: middle;\n",
       "    }\n",
       "\n",
       "    .dataframe tbody tr th {\n",
       "        vertical-align: top;\n",
       "    }\n",
       "\n",
       "    .dataframe thead th {\n",
       "        text-align: right;\n",
       "    }\n",
       "</style>\n",
       "<table border=\"1\" class=\"dataframe\">\n",
       "  <thead>\n",
       "    <tr style=\"text-align: right;\">\n",
       "      <th></th>\n",
       "      <th>Bereich</th>\n",
       "      <th>Mio. Tonnen</th>\n",
       "    </tr>\n",
       "  </thead>\n",
       "  <tbody>\n",
       "    <tr>\n",
       "      <th>0</th>\n",
       "      <td>Eier freiland</td>\n",
       "      <td>2.7</td>\n",
       "    </tr>\n",
       "    <tr>\n",
       "      <th>1</th>\n",
       "      <td>Käse</td>\n",
       "      <td>8.5</td>\n",
       "    </tr>\n",
       "    <tr>\n",
       "      <th>2</th>\n",
       "      <td>Butter</td>\n",
       "      <td>23.7</td>\n",
       "    </tr>\n",
       "    <tr>\n",
       "      <th>3</th>\n",
       "      <td>Kuhmilch</td>\n",
       "      <td>0.8</td>\n",
       "    </tr>\n",
       "    <tr>\n",
       "      <th>4</th>\n",
       "      <td>Rindfleisch</td>\n",
       "      <td>7.0</td>\n",
       "    </tr>\n",
       "    <tr>\n",
       "      <th>5</th>\n",
       "      <td>Reis</td>\n",
       "      <td>2.9</td>\n",
       "    </tr>\n",
       "    <tr>\n",
       "      <th>6</th>\n",
       "      <td>Weizen</td>\n",
       "      <td>0.5</td>\n",
       "    </tr>\n",
       "    <tr>\n",
       "      <th>7</th>\n",
       "      <td>Geflügelfleisch</td>\n",
       "      <td>1.6</td>\n",
       "    </tr>\n",
       "    <tr>\n",
       "      <th>8</th>\n",
       "      <td>Schweinefleisch</td>\n",
       "      <td>3.3</td>\n",
       "    </tr>\n",
       "    <tr>\n",
       "      <th>9</th>\n",
       "      <td>Mischbrot</td>\n",
       "      <td>0.7</td>\n",
       "    </tr>\n",
       "    <tr>\n",
       "      <th>10</th>\n",
       "      <td>Obst, frisch</td>\n",
       "      <td>0.4</td>\n",
       "    </tr>\n",
       "    <tr>\n",
       "      <th>11</th>\n",
       "      <td>Tomaten, frisch</td>\n",
       "      <td>0.3</td>\n",
       "    </tr>\n",
       "    <tr>\n",
       "      <th>12</th>\n",
       "      <td>Kartoffeln, frisch</td>\n",
       "      <td>0.2</td>\n",
       "    </tr>\n",
       "    <tr>\n",
       "      <th>13</th>\n",
       "      <td>Gemüse, frisch</td>\n",
       "      <td>0.1</td>\n",
       "    </tr>\n",
       "  </tbody>\n",
       "</table>\n",
       "</div>"
      ],
      "text/plain": [
       "               Bereich  Mio. Tonnen\n",
       "0        Eier freiland          2.7\n",
       "1                 Käse          8.5\n",
       "2               Butter         23.7\n",
       "3             Kuhmilch          0.8\n",
       "4          Rindfleisch          7.0\n",
       "5                 Reis          2.9\n",
       "6               Weizen          0.5\n",
       "7      Geflügelfleisch          1.6\n",
       "8      Schweinefleisch          3.3\n",
       "9            Mischbrot          0.7\n",
       "10        Obst, frisch          0.4\n",
       "11     Tomaten, frisch          0.3\n",
       "12  Kartoffeln, frisch          0.2\n",
       "13      Gemüse, frisch          0.1"
      ]
     },
     "execution_count": 63,
     "metadata": {},
     "output_type": "execute_result"
    }
   ],
   "source": [
    "data = [\n",
    "# (\"Energiewirtschaft\", 315),  \n",
    "(\"Gemüse, frisch\", 0.1),\n",
    "(\"Kartoffeln, frisch\", 0.2),\n",
    "(\"Tomaten, frisch\", 0.3),\n",
    "(\"Obst, frisch\", 0.4),\n",
    "(\"Mischbrot\", 0.7),\n",
    "(\"Schweinefleisch\", 3.3), # 3.1 - 3.3 \n",
    "(\"Geflügelfleisch\", 1.6), # 1.6 - 4.6\n",
    "(\"Weizen\", 0.5), # 0.4 - 0.5\n",
    "(\"Reis\", 2.9),\n",
    "(\"Rindfleisch\", 7), # 7 - 28\n",
    "(\"Kuhmilch\", 0.8), # 0.8 - 2.4\n",
    "(\"Butter\", 23.7),\n",
    "(\"Käse\", 8.5),\n",
    "(\"Eier freiland\", 2.7)\n",
    "][::-1]\n",
    "datamax = [\n",
    "(\"Geflügelfleisch\", 4.7), # 1.6 - 4.6\n",
    "(\"Rindfleisch\", 28), # 7 - 28\n",
    "(\"Kuhmilch\", 2.4), # 0.8 - 2.4   \n",
    "]\n",
    "df = pd.DataFrame(data, columns=(\"Bereich\", \"Mio. Tonnen\"))\n",
    "df"
   ]
  },
  {
   "cell_type": "code",
   "execution_count": 71,
   "metadata": {},
   "outputs": [],
   "source": [
    "with plt.xkcd():\n",
    "    plt.rcParams['font.family'] = 'DejaVu Sans'\n",
    "    plt.rcParams['font.size'] = 16\n",
    "    kwargs = dict(alpha=0.3, align='center', width=0.8, stacked=False, legend=None)\n",
    "    fig, ax = plt.subplots(1, 1, constrained_layout=True)\n",
    "    for key, value in datamax:\n",
    "        index = [i for i, (name, _) in enumerate(data) if name == key][0]\n",
    "        plt.barh(index, value, color='0.8')\n",
    "    df.plot.barh(ax=ax, x='Bereich', color=\"0.2\", **kwargs)\n",
    "    ax.grid(axis='x')\n",
    "    #ax.axhline(163, color='darkred', ls='--', lw=3, alpha=0.3)\n",
    "    ax.set_xlabel('CO2 Emissonen in Kg pro Kg Lebensmittel\\n Grau: Untergrenze, Hellgrau: Obergrenze')\n",
    "    ax.set_ylabel('')\n",
    "    #ax.set_ylim(0, 550)\n",
    "    #ax.legend(bbox_to_anchor=(0.5, -0.15)).get_frame().set_alpha(0.4)\n",
    "    #ax.legend().get_frame().set_alpha(0.25)\n",
    "    #plt.setp(L.texts, family='Consolas')\n",
    "    #plt.barh(4, 7, color='0.8')\n",
    "    #plt.barh(3, 0.8, color='0.8')\n",
    "    #plt.barh(7, 1.6, color='0.8')\n",
    "    plt.savefig('treibhausgase_lebensmittel.png')\n",
    "    plt.close()"
   ]
  },
  {
   "cell_type": "code",
   "execution_count": 72,
   "metadata": {},
   "outputs": [
    {
     "data": {
      "text/html": [
       "<img style='width: 600px' src=\"treibhausgase_lebensmittel.png\"></img>\n"
      ],
      "text/plain": [
       "<IPython.core.display.HTML object>"
      ]
     },
     "metadata": {},
     "output_type": "display_data"
    }
   ],
   "source": [
    "%%html\n",
    "<img style='width: 600px' src=\"treibhausgase_lebensmittel.png\"></img>"
   ]
  },
  {
   "cell_type": "code",
   "execution_count": null,
   "metadata": {},
   "outputs": [],
   "source": []
  }
 ],
 "metadata": {
  "kernelspec": {
   "display_name": "Python 3",
   "language": "python",
   "name": "python3"
  },
  "language_info": {
   "codemirror_mode": {
    "name": "ipython",
    "version": 3
   },
   "file_extension": ".py",
   "mimetype": "text/x-python",
   "name": "python",
   "nbconvert_exporter": "python",
   "pygments_lexer": "ipython3",
   "version": "3.8.2"
  }
 },
 "nbformat": 4,
 "nbformat_minor": 4
}
