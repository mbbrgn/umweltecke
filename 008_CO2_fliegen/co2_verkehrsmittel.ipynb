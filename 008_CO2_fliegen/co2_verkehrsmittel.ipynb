{
 "cells": [
  {
   "cell_type": "markdown",
   "metadata": {},
   "source": [
    "# Emissionsquellen\n",
    "\n",
    "Daten Quelle: https://www.umweltbundesamt.de/sites/default/files/medien/361/bilder/dateien/2020_thg_crf_plus_1a_details_ci.xlsx"
   ]
  },
  {
   "cell_type": "code",
   "execution_count": 1,
   "metadata": {},
   "outputs": [],
   "source": [
    "%reset -f\n",
    "%matplotlib agg"
   ]
  },
  {
   "cell_type": "code",
   "execution_count": 2,
   "metadata": {},
   "outputs": [],
   "source": [
    "import pandas as pd\n",
    "import matplotlib.pyplot as plt\n",
    "from IPython.display import display, Image\n",
    "\n",
    "plt.rcParams['figure.figsize'] = (8, 6)"
   ]
  },
  {
   "cell_type": "code",
   "execution_count": 3,
   "metadata": {},
   "outputs": [
    {
     "data": {
      "text/html": [
       "<div>\n",
       "<style scoped>\n",
       "    .dataframe tbody tr th:only-of-type {\n",
       "        vertical-align: middle;\n",
       "    }\n",
       "\n",
       "    .dataframe tbody tr th {\n",
       "        vertical-align: top;\n",
       "    }\n",
       "\n",
       "    .dataframe thead th {\n",
       "        text-align: right;\n",
       "    }\n",
       "</style>\n",
       "<table border=\"1\" class=\"dataframe\">\n",
       "  <thead>\n",
       "    <tr style=\"text-align: right;\">\n",
       "      <th></th>\n",
       "      <th>Bereich</th>\n",
       "      <th>Mio. Tonnen</th>\n",
       "    </tr>\n",
       "  </thead>\n",
       "  <tbody>\n",
       "    <tr>\n",
       "      <th>0</th>\n",
       "      <td>Fernlinienbus</td>\n",
       "      <td>29</td>\n",
       "    </tr>\n",
       "    <tr>\n",
       "      <th>1</th>\n",
       "      <td>Linienbus</td>\n",
       "      <td>80</td>\n",
       "    </tr>\n",
       "    <tr>\n",
       "      <th>2</th>\n",
       "      <td>Eisenbahn\\nFernverkehr</td>\n",
       "      <td>32</td>\n",
       "    </tr>\n",
       "    <tr>\n",
       "      <th>3</th>\n",
       "      <td>Eisenbahn\\nNahverkehr</td>\n",
       "      <td>57</td>\n",
       "    </tr>\n",
       "    <tr>\n",
       "      <th>4</th>\n",
       "      <td>Flugzeug</td>\n",
       "      <td>230</td>\n",
       "    </tr>\n",
       "    <tr>\n",
       "      <th>5</th>\n",
       "      <td>Pkw 1.5 Pers.</td>\n",
       "      <td>147</td>\n",
       "    </tr>\n",
       "  </tbody>\n",
       "</table>\n",
       "</div>"
      ],
      "text/plain": [
       "                  Bereich  Mio. Tonnen\n",
       "0           Fernlinienbus           29\n",
       "1               Linienbus           80\n",
       "2  Eisenbahn\\nFernverkehr           32\n",
       "3   Eisenbahn\\nNahverkehr           57\n",
       "4                Flugzeug          230\n",
       "5           Pkw 1.5 Pers.          147"
      ]
     },
     "execution_count": 3,
     "metadata": {},
     "output_type": "execute_result"
    }
   ],
   "source": [
    "data = [\n",
    "(\"Pkw 1.5 Pers.\", 147),\n",
    "(\"Flugzeug\", 230),\n",
    "(\"Eisenbahn\\nNahverkehr\", 57),\n",
    "(\"Eisenbahn\\nFernverkehr\", 32),\n",
    "(\"Linienbus\", 80),\n",
    "(\"Fernlinienbus\", 29),\n",
    "][::-1]\n",
    "df = pd.DataFrame(data, columns=(\"Bereich\", \"Mio. Tonnen\"))\n",
    "df"
   ]
  },
  {
   "cell_type": "code",
   "execution_count": 4,
   "metadata": {},
   "outputs": [],
   "source": [
    "with plt.xkcd():\n",
    "    plt.rcParams['font.family'] = 'DejaVu Sans'\n",
    "    plt.rcParams['font.size'] = 16\n",
    "    kwargs = dict(alpha=1.0, align='center', width=0.8, stacked=False, legend=None)\n",
    "    fig, ax = plt.subplots(1, 1, constrained_layout=True)\n",
    "    df.plot.barh(ax=ax, x='Bereich', color='0.5', **kwargs)\n",
    "    ax.grid(axis='x')\n",
    "    #ax.axhline(163, color='darkred', ls='--', lw=3, alpha=0.3)\n",
    "    ax.set_xlabel('Treibhausgase in Gramm pro Personen Km (mg/PKm)')\n",
    "    ax.set_ylabel('')\n",
    "    #ax.set_ylim(0, 550)\n",
    "    #ax.legend(bbox_to_anchor=(0.5, -0.15)).get_frame().set_alpha(0.4)\n",
    "    #ax.legend().get_frame().set_alpha(0.25)\n",
    "    #plt.setp(L.texts, family='Consolas')\n",
    "    #plt.barh(4, 7, color='0.8')\n",
    "    #plt.barh(3, 0.8, color='0.8')\n",
    "    #plt.barh(7, 1.6, color='0.8')\n",
    "    plt.savefig('treibhausgase_flugzeug.png')\n",
    "    plt.close()"
   ]
  },
  {
   "cell_type": "code",
   "execution_count": 5,
   "metadata": {},
   "outputs": [
    {
     "data": {
      "text/html": [
       "<img style='width: 600px' src=\"treibhausgase_flugzeug.png\"></img>\n"
      ],
      "text/plain": [
       "<IPython.core.display.HTML object>"
      ]
     },
     "metadata": {},
     "output_type": "display_data"
    }
   ],
   "source": [
    "%%html\n",
    "<img style='width: 600px' src=\"treibhausgase_flugzeug.png\"></img>"
   ]
  },
  {
   "cell_type": "code",
   "execution_count": null,
   "metadata": {},
   "outputs": [],
   "source": []
  }
 ],
 "metadata": {
  "kernelspec": {
   "display_name": "Python 3",
   "language": "python",
   "name": "python3"
  },
  "language_info": {
   "codemirror_mode": {
    "name": "ipython",
    "version": 3
   },
   "file_extension": ".py",
   "mimetype": "text/x-python",
   "name": "python",
   "nbconvert_exporter": "python",
   "pygments_lexer": "ipython3",
   "version": "3.8.2"
  }
 },
 "nbformat": 4,
 "nbformat_minor": 4
}
